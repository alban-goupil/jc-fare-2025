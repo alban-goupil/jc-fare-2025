{
 "cells": [
  {
   "cell_type": "markdown",
   "id": "bfaa8076-0bff-419f-9c59-f73b8fc0275d",
   "metadata": {},
   "source": [
    "# Générateur de texte"
   ]
  },
  {
   "cell_type": "code",
   "execution_count": 1,
   "id": "67602fcb-850a-47cf-9f85-8cae1a1aca11",
   "metadata": {},
   "outputs": [
    {
     "name": "stdout",
     "output_type": "stream",
     "text": [
      "Requirement already satisfied: numpy in ./venv/lib/python3.12/site-packages (2.0.2)\n",
      "Requirement already satisfied: scipy in ./venv/lib/python3.12/site-packages (1.15.1)\n",
      "Requirement already satisfied: numpy<2.5,>=1.23.5 in ./venv/lib/python3.12/site-packages (from scipy) (2.0.2)\n",
      "Requirement already satisfied: matplotlib in ./venv/lib/python3.12/site-packages (3.10.0)\n",
      "Requirement already satisfied: contourpy>=1.0.1 in ./venv/lib/python3.12/site-packages (from matplotlib) (1.3.1)\n",
      "Requirement already satisfied: cycler>=0.10 in ./venv/lib/python3.12/site-packages (from matplotlib) (0.12.1)\n",
      "Requirement already satisfied: fonttools>=4.22.0 in ./venv/lib/python3.12/site-packages (from matplotlib) (4.55.3)\n",
      "Requirement already satisfied: kiwisolver>=1.3.1 in ./venv/lib/python3.12/site-packages (from matplotlib) (1.4.8)\n",
      "Requirement already satisfied: numpy>=1.23 in ./venv/lib/python3.12/site-packages (from matplotlib) (2.0.2)\n",
      "Requirement already satisfied: packaging>=20.0 in ./venv/lib/python3.12/site-packages (from matplotlib) (24.2)\n",
      "Requirement already satisfied: pillow>=8 in ./venv/lib/python3.12/site-packages (from matplotlib) (11.1.0)\n",
      "Requirement already satisfied: pyparsing>=2.3.1 in ./venv/lib/python3.12/site-packages (from matplotlib) (3.2.1)\n",
      "Requirement already satisfied: python-dateutil>=2.7 in ./venv/lib/python3.12/site-packages (from matplotlib) (2.9.0.post0)\n",
      "Requirement already satisfied: six>=1.5 in ./venv/lib/python3.12/site-packages (from python-dateutil>=2.7->matplotlib) (1.17.0)\n"
     ]
    }
   ],
   "source": [
    "!pip install numpy\n",
    "!pip install scipy\n",
    "!pip install matplotlib\n",
    "\n",
    "import re\n",
    "import glob\n",
    "import numpy as np\n",
    "import scipy\n",
    "import matplotlib.pyplot as plt\n",
    "\n",
    "plt.rcParams['figure.figsize'] = [8.6, 6]\n",
    "#plt.rcParams['figure.dpi'] = 100"
   ]
  },
  {
   "cell_type": "markdown",
   "id": "f8b67830-fdd5-4998-b324-b304716f7808",
   "metadata": {},
   "source": [
    "## Exemple de données d'apprentissage"
   ]
  },
  {
   "cell_type": "code",
   "execution_count": 2,
   "id": "5ec26562-8250-4814-97b6-e0c52fc4f75a",
   "metadata": {
    "editable": true,
    "slideshow": {
     "slide_type": ""
    },
    "tags": []
   },
   "outputs": [
    {
     "name": "stdout",
     "output_type": "stream",
     "text": [
      "Avant traitement: Longtemps, je me suis couche de bonne heure. Parfois, a peine ma\n",
      "Après traitement: longtemps je me suis couche de bonne heure parfois a peine ma\n"
     ]
    }
   ],
   "source": [
    "import re\n",
    "with open('data/swan7.txt') as f:\n",
    "    line = f.readline()[:-1] # -1 pour supprimer la fin de ligne\n",
    "print(f'Avant traitement: {line}')\n",
    "line = re.sub(r'[^a-z]+', ' ', line.lower())\n",
    "print(f'Après traitement: {line}')"
   ]
  },
  {
   "cell_type": "markdown",
   "id": "246a20aa-1306-4444-8610-f6ff9a641452",
   "metadata": {
    "editable": true,
    "scrolled": true,
    "slideshow": {
     "slide_type": ""
    },
    "tags": []
   },
   "source": [
    "## Tokenization / embedding"
   ]
  },
  {
   "cell_type": "code",
   "execution_count": 3,
   "id": "c8ef9014-e39a-4868-ad1b-5ae2a587c832",
   "metadata": {},
   "outputs": [
    {
     "name": "stdout",
     "output_type": "stream",
     "text": [
      "Nombre de token: 27\n",
      "alphabet -> nombre: {'a': 0, 'b': 1, 'c': 2, 'd': 3, 'e': 4, 'f': 5, 'g': 6, 'h': 7, 'i': 8, 'j': 9, 'k': 10, 'l': 11, 'm': 12, 'n': 13, 'o': 14, 'p': 15, 'q': 16, 'r': 17, 's': 18, 't': 19, 'u': 20, 'v': 21, 'w': 22, 'x': 23, 'y': 24, 'z': 25, ' ': 26}\n",
      "nombre -> alphabet: {0: 'a', 1: 'b', 2: 'c', 3: 'd', 4: 'e', 5: 'f', 6: 'g', 7: 'h', 8: 'i', 9: 'j', 10: 'k', 11: 'l', 12: 'm', 13: 'n', 14: 'o', 15: 'p', 16: 'q', 17: 'r', 18: 's', 19: 't', 20: 'u', 21: 'v', 22: 'w', 23: 'x', 24: 'y', 25: 'z', 26: ' '}\n"
     ]
    }
   ],
   "source": [
    "alphabet = 'abcdefghijklmnopqrstuvwxyz '\n",
    "ntoks = len(alphabet)\n",
    "num2alpha = dict(enumerate(alphabet))\n",
    "alpha2num= {v:k for k,v in num2alpha.items()}\n",
    "print(f'Nombre de token: {ntoks}')\n",
    "print(f'alphabet -> nombre: {alpha2num}')\n",
    "print(f'nombre -> alphabet: {num2alpha}')\n"
   ]
  },
  {
   "cell_type": "code",
   "execution_count": 4,
   "id": "c5b5f7e8-92bf-4006-bced-edcedf6ccc75",
   "metadata": {},
   "outputs": [
    {
     "name": "stdout",
     "output_type": "stream",
     "text": [
      "tokens: [11 14 13  6 19  4 12 15 18 26  9  4 26 12  4 26 18 20  8 18]\n"
     ]
    }
   ],
   "source": [
    "tokens = np.fromiter((alpha2num[x] for x in line), dtype=int)\n",
    "print(f'tokens: {tokens[:20]}')"
   ]
  },
  {
   "cell_type": "markdown",
   "id": "32afddc8-df6d-4e73-a07a-7e57204d62ff",
   "metadata": {},
   "source": [
    "## Apprentissage"
   ]
  },
  {
   "cell_type": "code",
   "execution_count": 5,
   "id": "f38757e3-446e-43a0-aab4-d21b8b9bbaa3",
   "metadata": {},
   "outputs": [],
   "source": [
    "ordre = 3\n",
    "table = np.ones([ntoks] * ordre, dtype=int)"
   ]
  },
  {
   "cell_type": "code",
   "execution_count": 6,
   "id": "61fbd841-36d4-4e39-a946-a7ba6d021321",
   "metadata": {},
   "outputs": [],
   "source": [
    "for file in glob.iglob('data/*.txt'):\n",
    "    with open(file) as f:\n",
    "        prefix = np.zeros(0, dtype=int)\n",
    "        for line in f:\n",
    "            line = re.sub(r'[^a-z]+', ' ', line.lower())\n",
    "            tokens = np.concat((prefix, np.fromiter((alpha2num[x] for x in line), dtype=int)))\n",
    "            for i in range(tokens.size - ordre):\n",
    "                table[tuple(tokens[i:i+ordre])] += 1\n",
    "            prefix = tokens[-ordre:]\n",
    "ltable = np.log(1 + table)"
   ]
  },
  {
   "cell_type": "code",
   "execution_count": 7,
   "id": "cae8c989-da66-4ffe-882e-96eb82748981",
   "metadata": {},
   "outputs": [
    {
     "name": "stdout",
     "output_type": "stream",
     "text": [
      "Nombre de tuples: 2285240\n",
      "Nombre d'entrées non vides: 4363\n"
     ]
    }
   ],
   "source": [
    "print(f'Nombre de tuples: {table.sum()}')\n",
    "print(f'Nombre d\\'entrées non vides: {np.sum(table > 1)}')"
   ]
  },
  {
   "cell_type": "code",
   "execution_count": 8,
   "id": "a36124fe-874d-40b6-bf85-baaa1e006fa4",
   "metadata": {},
   "outputs": [],
   "source": [
    "if ordre == 2:\n",
    "    fig, ax = plt.subplots()\n",
    "    ax.set_xticks(range(ntoks),labels=alphabet)\n",
    "    ax.set_yticks(range(ntoks), labels=alphabet)\n",
    "    ax.matshow(table)"
   ]
  },
  {
   "cell_type": "markdown",
   "id": "7fab649f-76e6-49ce-8c98-17fd74eee84b",
   "metadata": {},
   "source": [
    "## Modèles génératifs et géneration de texte"
   ]
  },
  {
   "cell_type": "code",
   "execution_count": 9,
   "id": "ecf0db06-19b1-456e-8e4e-18fdedb023a7",
   "metadata": {},
   "outputs": [
    {
     "name": "stdout",
     "output_type": "stream",
     "text": [
      "il etait une fois une elarqui a vous l on de pon et j y aves se ra soit il  es on affales licen voisses efoils comes te taitel diustet que\n"
     ]
    }
   ],
   "source": [
    "from scipy.special import softmax\n",
    "temperature = 1.2\n",
    "longueur = 120\n",
    "\n",
    "tokens = [alpha2num[c] for c in 'il etait une fois ']\n",
    "for i in range(longueur):\n",
    "    idx = tuple(tokens[1-ordre:])\n",
    "    new_tok = np.random.choice(ntoks, p=softmax(ltable[idx]/1.2))\n",
    "    tokens.append(new_tok)\n",
    "texte = ''.join(num2alpha[t] for t in tokens)\n",
    "print(texte)"
   ]
  },
  {
   "cell_type": "code",
   "execution_count": null,
   "id": "0a97146b-2cf8-429e-b7a6-1d8d00c0a023",
   "metadata": {},
   "outputs": [],
   "source": []
  }
 ],
 "metadata": {
  "kernelspec": {
   "display_name": "Python 3 (ipykernel)",
   "language": "python",
   "name": "python3"
  },
  "language_info": {
   "codemirror_mode": {
    "name": "ipython",
    "version": 3
   },
   "file_extension": ".py",
   "mimetype": "text/x-python",
   "name": "python",
   "nbconvert_exporter": "python",
   "pygments_lexer": "ipython3",
   "version": "3.12.3"
  }
 },
 "nbformat": 4,
 "nbformat_minor": 5
}
